{
 "cells": [
  {
   "cell_type": "code",
   "execution_count": 4,
   "metadata": {},
   "outputs": [
    {
     "name": "stdout",
     "output_type": "stream",
     "text": [
      "Connecting to database\n",
      "    ->host='localhost' dbname='newsapp' user='postgres' password='postgres'\n",
      "Got df_table\n",
      "Got df_ent_table\n",
      "Done with DB, number of articles: 5773\n"
     ]
    },
    {
     "ename": "TypeError",
     "evalue": "create_xls_csv() takes 1 positional argument but 2 were given",
     "output_type": "error",
     "traceback": [
      "\u001b[0;31m---------------------------------------------------------------------------\u001b[0m",
      "\u001b[0;31mTypeError\u001b[0m                                 Traceback (most recent call last)",
      "\u001b[0;32m<ipython-input-4-71a43b675af3>\u001b[0m in \u001b[0;36m<module>\u001b[0;34m()\u001b[0m\n\u001b[1;32m     13\u001b[0m \u001b[0;31m#df_ent_table.drop(['text'])\u001b[0m\u001b[0;34m\u001b[0m\u001b[0;34m\u001b[0m\u001b[0m\n\u001b[1;32m     14\u001b[0m \u001b[0;34m\u001b[0m\u001b[0m\n\u001b[0;32m---> 15\u001b[0;31m \u001b[0mcreate_xls_csv\u001b[0m\u001b[0;34m(\u001b[0m\u001b[0mdf_ent_table\u001b[0m\u001b[0;34m,\u001b[0m \u001b[0;34m'df_ent_table'\u001b[0m\u001b[0;34m)\u001b[0m\u001b[0;34m\u001b[0m\u001b[0m\n\u001b[0m\u001b[1;32m     16\u001b[0m \u001b[0;34m\u001b[0m\u001b[0m\n\u001b[1;32m     17\u001b[0m \u001b[0;34m\u001b[0m\u001b[0m\n",
      "\u001b[0;31mTypeError\u001b[0m: create_xls_csv() takes 1 positional argument but 2 were given"
     ]
    }
   ],
   "source": [
    "#tidy up\n",
    "import pandas as pd\n",
    "from get_table_data import get_table_data\n",
    "from get_table_data import get_table_data\n",
    "from create_xls_csv import create_xls_csv\n",
    "\n",
    "df_ent_table, df_table = get_table_data()\n",
    "df_table[\"publishedat\"] = [d.to_pydatetime().date() for d in df_table[\"publishedat\"]]\n",
    "df_ent_table[\"publishedat\"] = [d.to_pydatetime().date() for d in df_ent_table[\"publishedat\"]]\n",
    "df_ent_table[\"publishedat\"] =  [d.strftime('%d_%m_%Y') if not pd.isnull(d) else '' for d in df_ent_table[\"publishedat\"]]\n",
    "df_table[\"length\"] = [len(text) for text in df_table[\"text\"]]\n",
    "df_ent_table[\"length\"] = [len(text) for text in df_ent_table[\"text\"]]\n",
    "#df_ent_table.drop(['text'])\n",
    "\n",
    "create_xls_csv(df_ent_table, 'df_ent_table')\n",
    "\n",
    "\n",
    "df_ents_name_and_id = df_ent_table[['article', 'name', 'url', 'publishedat', 'length', 'source']]\n",
    "df_ents_name_and_id = df_ents_name_and_id[df_ents_name_and_id.publishedat == '07_07_2017']\n",
    "\n",
    "\n",
    "#df_ents_full = df_ents_name_and_id[:500]\n",
    "df_ents_full = df_ents_name_and_id\n",
    "\n",
    "#df_ents_name_and_id = df_ents_name_and_id"
   ]
  },
  {
   "cell_type": "code",
   "execution_count": null,
   "metadata": {
    "collapsed": true,
    "scrolled": false
   },
   "outputs": [],
   "source": [
    "#nomalization\n",
    "for index, row in df_ents_full.iterrows():\n",
    "    if row['name'] == 'Trump' or row['name'] == 'Donald Trump' or row['name'] == 'President Trump':\n",
    "        print(\"Trump! {}\".format(row['name']))\n",
    "        update backend_entities set name = ‘Trump’  where article = row['article'];"
   ]
  },
  {
   "cell_type": "code",
   "execution_count": 20,
   "metadata": {
    "scrolled": true
   },
   "outputs": [
    {
     "ename": "TypeError",
     "evalue": "create_xls_csv() missing 1 required positional argument: 'table'",
     "output_type": "error",
     "traceback": [
      "\u001b[0;31m---------------------------------------------------------------------------\u001b[0m",
      "\u001b[0;31mTypeError\u001b[0m                                 Traceback (most recent call last)",
      "\u001b[0;32m<ipython-input-20-150df6e0e04c>\u001b[0m in \u001b[0;36m<module>\u001b[0;34m()\u001b[0m\n\u001b[1;32m      1\u001b[0m \u001b[0;32mfrom\u001b[0m \u001b[0mcreate_xls_csv\u001b[0m \u001b[0;32mimport\u001b[0m \u001b[0mcreate_xls_csv\u001b[0m\u001b[0;34m\u001b[0m\u001b[0m\n\u001b[0;32m----> 2\u001b[0;31m \u001b[0mcreate_xls_csv\u001b[0m\u001b[0;34m(\u001b[0m\u001b[0;34m)\u001b[0m\u001b[0;34m\u001b[0m\u001b[0m\n\u001b[0m",
      "\u001b[0;31mTypeError\u001b[0m: create_xls_csv() missing 1 required positional argument: 'table'"
     ]
    }
   ],
   "source": [
    "from create_xls_csv import create_xls_csv\n",
    "create_xls_csv()\n"
   ]
  },
  {
   "cell_type": "code",
   "execution_count": null,
   "metadata": {
    "collapsed": true
   },
   "outputs": [],
   "source": [
    "from collections import  defaultdict\n",
    "df_ents_current_dict = defaultdict(list)\n",
    "df_ents_sim_dict = defaultdict(dict)\n",
    "df_ents_sim = pd.DataFrame([])\n",
    "df_ents_data_set = set(df_ents_full['publishedat'])\n",
    "\n",
    "for date in df_ents_data_set:\n",
    "    df_ents_current = df_ents_full[df_ents_full.publishedat == date]\n",
    "    for index, row in df_ents_current.iterrows():\n",
    "        df_ents_current_dict[row['article']].append(row['name'])\n",
    "    len_list = []\n",
    "    for key1, value1 in df_ents_current_dict.items():\n",
    "        for key2, value2 in df_ents_current_dict.items():\n",
    "            sim_num = len(set(value1) & set(value2))\n",
    "            sim_vals = set(value1) & set(value2)\n",
    "            if sim_num >= 3 and key1 != key2:\n",
    "                #print(\"{} {} {} {}\\n\".format(key1, key2, sim_num, sim_vals)   )\n",
    "                df_ents_sim_dict[key1][key2] = sim_num\n",
    "                df_ents_sim = df_ents_sim.append(pd.DataFrame({'article1': key1, 'article2': key2, 'sim_count': sim_num, 'entities': sim_vals}, index=[0]), ignore_index=True)\n",
    "\n",
    "    df_ents_sim.to_csv('df_ents_sim_%s.csv' % date)\n",
    "                \n",
    "            \n",
    "#for key1, value1 in df_ents_sim_dict.items():\n",
    "#    for key2, value2 in df_ents_sim_dict.items():\n",
    "#        print(\"{} {} {}\\n\".format(key1, key2, sim_num)   )\n",
    "\n",
    "\n",
    "\n"
   ]
  },
  {
   "cell_type": "code",
   "execution_count": null,
   "metadata": {
    "collapsed": true
   },
   "outputs": [],
   "source": [
    "df_ents_data_set"
   ]
  },
  {
   "cell_type": "code",
   "execution_count": null,
   "metadata": {
    "collapsed": true
   },
   "outputs": [],
   "source": [
    "df_ents_full_temp = set(df_ents_full['publishedat'])\n",
    "\n",
    "df_ents_full_temp\n",
    "#len(df_ents_sim)\n",
    "#df_ents_sim\n",
    "\n",
    "set(df_table['publishedat'])\n",
    "\n",
    "#date_str =  df_table['publishedat'][0].strftime('%d-%m-%Y')\n",
    "#date_str"
   ]
  },
  {
   "cell_type": "code",
   "execution_count": null,
   "metadata": {
    "collapsed": true
   },
   "outputs": [],
   "source": [
    "import os\n",
    "os.getcwd()"
   ]
  }
 ],
 "metadata": {
  "kernelspec": {
   "display_name": "Python 3",
   "language": "python",
   "name": "python3"
  },
  "language_info": {
   "codemirror_mode": {
    "name": "ipython",
    "version": 3
   },
   "file_extension": ".py",
   "mimetype": "text/x-python",
   "name": "python",
   "nbconvert_exporter": "python",
   "pygments_lexer": "ipython3",
   "version": "3.5.2"
  }
 },
 "nbformat": 4,
 "nbformat_minor": 2
}
